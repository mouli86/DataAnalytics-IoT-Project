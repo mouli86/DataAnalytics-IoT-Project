{
 "cells": [
  {
   "cell_type": "code",
   "execution_count": 1,
   "metadata": {
    "id": "cquB1fRohQf_"
   },
   "outputs": [],
   "source": [
    "import pandas as pd\n",
    "import numpy as np\n",
    "from statsmodels.tsa.arima.model import ARIMA\n",
    "df_House_A = pd.read_csv('House_A.csv', index_col = 'time_stamp', parse_dates=True)\n",
    "df_House_A.index.freq = 'S'\n",
    "\n",
    "df_House_B = pd.read_csv('House_B.csv', index_col = 'time_stamp', parse_dates=True)\n",
    "df_House_B.index.freq = 'S'"
   ]
  },
  {
   "cell_type": "code",
   "execution_count": 2,
   "metadata": {
    "colab": {
     "base_uri": "https://localhost:8080/"
    },
    "id": "ZXFIjGUZqtuy",
    "outputId": "10bc3a48-7a91-4a34-e5c6-54efa49dc399"
   },
   "outputs": [
    {
     "name": "stdout",
     "output_type": "stream",
     "text": [
      "(2592000, 25)\n",
      "(2592000, 25)\n"
     ]
    }
   ],
   "source": [
    "print(df_House_A.shape)\n",
    "print(df_House_B.shape)"
   ]
  },
  {
   "cell_type": "code",
   "execution_count": 21,
   "metadata": {
    "id": "OFdnaz4jk13m"
   },
   "outputs": [],
   "source": [
    "number_points_predict = 30000\n",
    "training_datapoints = 1000000\n",
    "df_House_A_train = df_House_A[training_datapoints:training_datapoints*2]\n",
    "df_House_A_test = df_House_A[training_datapoints*2:]\n",
    "\n",
    "df_House_B_train = df_House_B[training_datapoints:training_datapoints*2]\n",
    "df_House_B_test = df_House_B[training_datapoints*2:]\n",
    "\n",
    "def predict_labels(df, steps):\n",
    "    # Define the order of the ARIMA model\n",
    "    order = (1, 1, 0)  # (p, d, q)\n",
    "\n",
    "    # Fit the ARIMA model to Resident_1 column\n",
    "    model_1 = ARIMA(df['Resident_1'], order=order)\n",
    "    result_1 = model_1.fit()\n",
    "\n",
    "    # Make a forecast for Resident_1 column\n",
    "    forecast_1 = result_1.forecast(steps=steps)\n",
    "\n",
    "    # Fit the SARIMA model to Resident_2 column\n",
    "    model_2 = ARIMA(df['Resident_2'], order=order)\n",
    "    result_2 = model_2.fit()\n",
    "\n",
    "    # Make a forecast for Resident_2 column\n",
    "    forecast_2 = result_2.forecast(steps=steps)\n",
    "    return forecast_1, forecast_2\n",
    "\n",
    "forecast_A1, forecast_A2 = predict_labels(df_House_A_train, number_points_predict)\n",
    "\n",
    "forecast_B1, forecast_B2 = predict_labels(df_House_B_train, number_points_predict)\n",
    "\n",
    "\n"
   ]
  },
  {
   "cell_type": "code",
   "execution_count": 24,
   "metadata": {
    "colab": {
     "base_uri": "https://localhost:8080/"
    },
    "id": "m-A33rxJnjuk",
    "outputId": "a21dff11-b481-4421-bc92-b5cca725c084"
   },
   "outputs": [
    {
     "name": "stderr",
     "output_type": "stream",
     "text": [
      "<ipython-input-24-fc9e8fd4d8f1>:9: SettingWithCopyWarning: \n",
      "A value is trying to be set on a copy of a slice from a DataFrame.\n",
      "Try using .loc[row_indexer,col_indexer] = value instead\n",
      "\n",
      "See the caveats in the documentation: https://pandas.pydata.org/pandas-docs/stable/user_guide/indexing.html#returning-a-view-versus-a-copy\n",
      "  df_House_A_test['Resident_1_Pred'] = forecast_A1\n",
      "<ipython-input-24-fc9e8fd4d8f1>:10: SettingWithCopyWarning: \n",
      "A value is trying to be set on a copy of a slice from a DataFrame.\n",
      "Try using .loc[row_indexer,col_indexer] = value instead\n",
      "\n",
      "See the caveats in the documentation: https://pandas.pydata.org/pandas-docs/stable/user_guide/indexing.html#returning-a-view-versus-a-copy\n",
      "  df_House_A_test['Resident_2_Pred'] = forecast_A2\n",
      "<ipython-input-24-fc9e8fd4d8f1>:20: SettingWithCopyWarning: \n",
      "A value is trying to be set on a copy of a slice from a DataFrame.\n",
      "Try using .loc[row_indexer,col_indexer] = value instead\n",
      "\n",
      "See the caveats in the documentation: https://pandas.pydata.org/pandas-docs/stable/user_guide/indexing.html#returning-a-view-versus-a-copy\n",
      "  df_House_B_test['Resident_1_Pred'] = forecast_B1\n",
      "<ipython-input-24-fc9e8fd4d8f1>:21: SettingWithCopyWarning: \n",
      "A value is trying to be set on a copy of a slice from a DataFrame.\n",
      "Try using .loc[row_indexer,col_indexer] = value instead\n",
      "\n",
      "See the caveats in the documentation: https://pandas.pydata.org/pandas-docs/stable/user_guide/indexing.html#returning-a-view-versus-a-copy\n",
      "  df_House_B_test['Resident_2_Pred'] = forecast_B2\n"
     ]
    },
    {
     "name": "stdout",
     "output_type": "stream",
     "text": [
      "House A - Resident_1 MSE: 10.574133333333334\n",
      "House A - Resident_1 MSE: 41.806066666666666\n",
      "House B - Resident_1 MSE: 7.2584\n",
      "House B - Resident_2 MSE: 5.1661\n"
     ]
    }
   ],
   "source": [
    "from sklearn.metrics import mean_squared_error\n",
    "\n",
    "# Load the actual values for Resident_1 and Resident_2\n",
    "actual_A1 = df_House_A_test['Resident_1'][:number_points_predict]\n",
    "actual_A2 = df_House_A_test['Resident_2'][:number_points_predict]\n",
    "\n",
    "forecast_A1 = forecast_A1.apply(lambda x: int(x))\n",
    "forecast_A2 = forecast_A2.apply(lambda x: int(x))\n",
    "df_House_A_test['Resident_1_Pred'] = forecast_A1\n",
    "df_House_A_test['Resident_2_Pred'] = forecast_A2\n",
    "\n",
    "\n",
    "# Calculate the mean squared error for Resident_1\n",
    "actual_B1 = df_House_B_test['Resident_1'][:number_points_predict]\n",
    "actual_B2 = df_House_B_test['Resident_2'][:number_points_predict]\n",
    "forecast_B1 = forecast_B1.apply(lambda x: int(x))\n",
    "forecast_B2 = forecast_B2.apply(lambda x: int(x))\n",
    "df_House_B_test['Resident_1_Pred'] = forecast_B1\n",
    "df_House_B_test['Resident_2_Pred'] = forecast_B2\n",
    "\n",
    "\n",
    "\n",
    "print()\n",
    "#Calculate the mean squared error for Resident_1 House A\n",
    "mse_A1 = mean_squared_error(actual_A1, forecast_A1)\n",
    "print('House A - Resident_1 MSE:', mse_A1)\n",
    "# Calculate the mean squared error for Resident_2\n",
    "mse_A2 = mean_squared_error(actual_A2, forecast_A2)\n",
    "print('House A - Resident_1 MSE:', mse_A2)\n",
    "mse_B1 = mean_squared_error(actual_B1, forecast_B1)\n",
    "print('House B - Resident_1 MSE:', mse_B1)\n",
    "mse_B2 = mean_squared_error(actual_B2, forecast_B2)\n",
    "print('House B - Resident_2 MSE:', mse_B2)\n",
    "\n",
    "#Save dataframes for tableau dashboard\n",
    "df_House_B_test[['Resident_1', 'Resident_2', 'Resident_1_Pred','Resident_2_Pred']].head(number_points_predict).to_csv(\"House_B_TS_Pred.csv\")\n",
    "df_House_A_test[['Resident_1', 'Resident_2', 'Resident_1_Pred','Resident_2_Pred']].head(number_points_predict).to_csv(\"House_A_TS_Pred.csv\")"
   ]
  }
 ],
 "metadata": {
  "colab": {
   "provenance": []
  },
  "kernelspec": {
   "display_name": "Python 3 (ipykernel)",
   "language": "python",
   "name": "python3"
  },
  "language_info": {
   "codemirror_mode": {
    "name": "ipython",
    "version": 3
   },
   "file_extension": ".py",
   "mimetype": "text/x-python",
   "name": "python",
   "nbconvert_exporter": "python",
   "pygments_lexer": "ipython3",
   "version": "3.9.13"
  }
 },
 "nbformat": 4,
 "nbformat_minor": 1
}
