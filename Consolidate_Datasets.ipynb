{
 "cells": [
  {
   "cell_type": "code",
   "execution_count": 1,
   "id": "89a3c807",
   "metadata": {},
   "outputs": [
    {
     "name": "stdout",
     "output_type": "stream",
     "text": [
      "Empty DataFrame\n",
      "Columns: [Photocell_1, Photocell_2, IR_1, Force_Sensor_1, Force_Sensor_2, Distance_Sensor_3, Distance_Sensor_4, Photocell_3, Photocell_4, Photocell_5, Photocell_6, Contact_Sensor_1, Contact_Sensor_2, Contact_Sensor_3, Sonar_1, Sonar_2, Distance_Sensor_2, Distance_Sensor_3, Tempurature_1, Force_Sensor_3, Activity_A, Activity_B, House]\n",
      "Index: []\n",
      "\n",
      "[0 rows x 23 columns]\n"
     ]
    }
   ],
   "source": [
    "import pandas as pd\n",
    "from os import listdir\n",
    "import os\n",
    "from os.path import isfile, join, isdir\n",
    "import numpy as np\n",
    "import datetime\n",
    "\n",
    "\n",
    "columns = ['Photocell_1', 'Photocell_2','IR_1','Force_Sensor_1', 'Force_Sensor_2','Distance_Sensor_3', 'Distance_Sensor_4', 'Photocell_3','Photocell_4','Photocell_5','Photocell_6', 'Contact_Sensor_1', 'Contact_Sensor_2','Contact_Sensor_3','Sonar_1','Sonar_2','Distance_Sensor_2','Distance_Sensor_3','Tempurature_1','Force_Sensor_3','Activity_A','Activity_B']\n",
    "\n",
    "df = pd.DataFrame(columns = columns)\n",
    "df['House'] = np.nan\n",
    "\n",
    "datasets_folder = 'Datasets/'\n",
    "print(df)\n"
   ]
  },
  {
   "cell_type": "code",
   "execution_count": 2,
   "id": "797885dd",
   "metadata": {},
   "outputs": [
    {
     "name": "stdout",
     "output_type": "stream",
     "text": [
      "(5184000, 23)\n"
     ]
    }
   ],
   "source": [
    "datasets_folder = 'Datasets/'  \n",
    "for subdir_name in os.listdir(datasets_folder):\n",
    "    subdir_path = os.path.join(datasets_folder, subdir_name)\n",
    "    \n",
    "    # Check if subdir is actually a directory\n",
    "    if os.path.isdir(subdir_path):\n",
    "        files = os.listdir(subdir_path)\n",
    "        files.remove('README')\n",
    "        files = sorted(files, key = lambda x: int(x.replace('DAY_','').replace('.txt','')))\n",
    "        # Loop over files in subdirectory\n",
    "        for file_name in files:\n",
    "            if(not file_name.endswith('.txt')):\n",
    "                continue\n",
    "            file_path = os.path.join(subdir_path, file_name)\n",
    "            df_temp = pd.read_csv(file_path, sep = ' ', header = None)\n",
    "            df_temp['House'] = subdir_path.split('/')[-1].split(' ')[-1]\n",
    "            df_temp.columns = df.columns\n",
    "            df = pd.concat([df, df_temp], ignore_index = True)    \n",
    "print(df.shape)\n"
   ]
  },
  {
   "cell_type": "code",
   "execution_count": 3,
   "id": "0bbc7030",
   "metadata": {},
   "outputs": [],
   "source": [
    "df.shape\n",
    "df.head()\n",
    "df.to_csv('consolidated_aras_dataset.csv', index = False)"
   ]
  },
  {
   "cell_type": "code",
   "execution_count": null,
   "id": "373c9f30",
   "metadata": {},
   "outputs": [],
   "source": []
  }
 ],
 "metadata": {
  "kernelspec": {
   "display_name": "Python 3 (ipykernel)",
   "language": "python",
   "name": "python3"
  },
  "language_info": {
   "codemirror_mode": {
    "name": "ipython",
    "version": 3
   },
   "file_extension": ".py",
   "mimetype": "text/x-python",
   "name": "python",
   "nbconvert_exporter": "python",
   "pygments_lexer": "ipython3",
   "version": "3.9.13"
  }
 },
 "nbformat": 4,
 "nbformat_minor": 5
}
